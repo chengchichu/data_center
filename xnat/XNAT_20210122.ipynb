{
 "cells": [
  {
   "cell_type": "markdown",
   "metadata": {},
   "source": [
    "# 目的: 依據Dicom Tags搜尋影像並下載"
   ]
  },
  {
   "cell_type": "markdown",
   "metadata": {},
   "source": [
    "## Part1. 請修改\"你要輸入的部分 \"\n",
    "\n",
    "說明: \n",
    "\n",
    "* 交集是default的形式\n",
    "* Case A field A必須存在 而且 case-sensitive x必須存在, 但 word-sensitive dicom_query['A'] = 'x'\n",
    "* Case A & B & C field A, B, and C 均必須存在 而且 case-sensitive x,y,z 均必須存在, 但 word-sensitive dicom_query['A'] = 'x' dicom_query['B'] = 'y' dicom_query['C'] = 'z'\n",
    "* Case A | B 請個別query dicom_query['A'] = 'x' 然後 dicom_query['B'] = 'y' 再pool_data\n",
    "* e.g. field A = x | field B = x, pooling dicom_query['A'] = 'x', dicom_query['B'] = 'x'"
   ]
  },
  {
   "cell_type": "code",
   "execution_count": 1,
   "metadata": {},
   "outputs": [],
   "source": [
    "import sys\n",
    "dicom_query = {};\n",
    "\n",
    "####你要輸入的部分 -- 開始\n",
    "xnat_dir = '/home/anpo/anaconda3/lib/python3.8/site-packages' #輸入XNAT python library安裝路徑\n",
    "config_path = '/home/anpo/Desktop/pyscript/data_center/xnat' #輸入放置從git下載程式的資料夾\n",
    "download_root = '/home/anpo/Desktop/DataForDBtest' # your data deposit location\n",
    "project_name = \"tpj1\" # your project name\n",
    "USER_ID = 'anpo' \n",
    "PassWord = 'espesp043'\n",
    "\n",
    "#輸入你要搜尋DICOM tags的條件\n",
    "dicom_query['BodyPartExamined'] = 'CHEST'\n",
    "#dicom_query['PatientAge'] = '057Y'\n",
    "dicom_query['Modality'] = 'CT'\n",
    "#dicom_query['StudyDescription'] = 'Chest A-P View'\n",
    "dicom_query['StudyDescription'] = 'tpj1'\n",
    "\n",
    "####你要輸入的部分 -- 結束"
   ]
  },
  {
   "cell_type": "markdown",
   "metadata": {},
   "source": [
    "## Part2. 以下語法直接跑，不用改"
   ]
  },
  {
   "cell_type": "code",
   "execution_count": 2,
   "metadata": {
    "scrolled": true
   },
   "outputs": [
    {
     "name": "stdout",
     "output_type": "stream",
     "text": [
      "anpo\n",
      "espesp043\n"
     ]
    },
    {
     "name": "stderr",
     "output_type": "stream",
     "text": [
      "526.8 KiB |#                                                      |  86.0 MiB/s\n",
      "  0.0 B |#                                                          |   0.0 s/B"
     ]
    },
    {
     "name": "stdout",
     "output_type": "stream",
     "text": [
      "根據query回傳之路徑\n",
      "http://10.30.223.96/xnat-docker-compose/xnat-data/archive/tpj1/1_2_528_1_1001_200_10_4201_11781_257665444_20201117080950713/094H31579X01/1\n",
      "\n",
      "http://10.30.223.96/xnat-docker-compose/xnat-data/archive/tpj1/1_2_528_1_1001_200_10_4201_11781_257665444_20201117080950713/094H31579X01/2\n",
      "\n",
      "http://10.30.223.96/xnat-docker-compose/xnat-data/archive/tpj1/1_2_528_1_1001_200_10_4201_11781_257665444_20201117080950713/094H31579X01/3\n",
      "\n",
      "http://10.30.223.96/xnat-docker-compose/xnat-data/archive/tpj1/1_2_528_1_1001_200_10_4201_11781_257665444_20201117183947510/105Q33253X01/1\n",
      "\n",
      "http://10.30.223.96/xnat-docker-compose/xnat-data/archive/tpj1/1_2_528_1_1001_200_10_4201_11781_257665444_20201117183947510/105Q33253X01/2\n",
      "\n",
      "http://10.30.223.96/xnat-docker-compose/xnat-data/archive/tpj1/1_2_528_1_1001_200_10_4201_11781_257665444_20201117183947510/105Q33253X01/3\n",
      "\n",
      "http://10.30.223.96/xnat-docker-compose/xnat-data/archive/tpj1/1_2_528_1_1001_200_10_4201_11781_257665444_20201117183947510/105Q33253X01/9\n",
      "\n",
      "http://10.30.223.96/xnat-docker-compose/xnat-data/archive/tpj1/1_2_528_1_1001_200_10_4201_11781_257665444_20201117183947510/105Q33253X01/10\n",
      "\n",
      "http://10.30.223.96/xnat-docker-compose/xnat-data/archive/tpj1/1_2_528_1_1001_200_10_4201_11781_257665444_20201117183947510/105Q33253X01/11\n",
      "\n",
      "http://10.30.223.96/xnat-docker-compose/xnat-data/archive/tpj1/1_2_528_1_1001_200_10_4201_11781_257665444_20201117183947510/105Q33253X01/12\n",
      "\n",
      "http://10.30.223.96/xnat-docker-compose/xnat-data/archive/tpj1/1_2_528_1_1001_200_10_4201_11781_257665444_20201117160708803/182N38271X01/1\n",
      "\n",
      "http://10.30.223.96/xnat-docker-compose/xnat-data/archive/tpj1/1_2_528_1_1001_200_10_4201_11781_257665444_20201117160708803/182N38271X01/3\n",
      "\n",
      "http://10.30.223.96/xnat-docker-compose/xnat-data/archive/tpj1/1_2_528_1_1001_200_10_4201_11781_257665444_20201117160708803/182N38271X01/5\n",
      "\n",
      "http://10.30.223.96/xnat-docker-compose/xnat-data/archive/tpj1/1_2_528_1_1001_200_10_4201_11781_257665444_20201117160708803/182N38271X01/7\n",
      "\n",
      "http://10.30.223.96/xnat-docker-compose/xnat-data/archive/tpj1/1_2_528_1_1001_200_10_4201_11781_257665444_20201117160708803/182N38271X01/9998\n",
      "\n",
      "dicom裡搜尋到的字串\n",
      "['chest', 'ct', 'tpj1']\n",
      "['chest', 'ct', 'tpj1']\n",
      "['chest', 'ct', 'tpj1']\n",
      "['chest', 'ct', 'tpj1']\n",
      "['chest', 'ct', 'tpj1']\n",
      "['chest', 'ct', 'tpj1']\n",
      "['chest', 'ct', 'tpj1']\n",
      "['chest', 'ct', 'tpj1']\n",
      "['chest', 'ct', 'tpj1']\n",
      "['chest', 'ct', 'tpj1']\n",
      "['chest', 'ct', 'tpj1']\n",
      "['chest', 'ct', 'tpj1']\n",
      "['chest', 'ct', 'tpj1']\n",
      "['chest', 'ct', 'tpj1']\n",
      "['chest', 'ct', 'tpj1']\n"
     ]
    },
    {
     "name": "stderr",
     "output_type": "stream",
     "text": [
      " 28.7 MiB |  #                                                    | 113.2 MiB/s\n",
      " 48.9 MiB |    #                                                  | 112.4 MiB/s\n",
      "515.3 KiB |#                                                      | 127.2 MiB/s\n",
      " 11.1 MiB |#                                                      | 113.0 MiB/s\n",
      " 18.6 MiB | #                                                     | 114.0 MiB/s\n",
      "  2.5 MiB |#                                                      | 122.1 MiB/s\n",
      "  2.5 MiB |#                                                      | 122.8 MiB/s\n",
      "  2.5 MiB |#                                                      | 123.4 MiB/s\n",
      "  8.1 MiB |#                                                      | 113.9 MiB/s\n",
      "518.6 KiB |#                                                      | 138.9 MiB/s\n",
      " 53.2 MiB |    #                                                  | 112.2 MiB/s\n",
      " 46.6 MiB |    #                                                  | 112.1 MiB/s\n",
      " 16.2 MiB | #                                                     | 113.8 MiB/s\n",
      "775.0 KiB |#                                                      | 129.1 MiB/s\n"
     ]
    },
    {
     "name": "stdout",
     "output_type": "stream",
     "text": [
      "15 total files, 15 files sucessfully download\n"
     ]
    }
   ],
   "source": [
    "###################################################################################################\n",
    "# sys.path.append(r'C:\\Users\\user\\Anaconda3\\Lib')\n",
    "# print(sys.path)\n",
    "# sys.path.append(r'C:\\Users\\user\\Anaconda3\\Lib\\site-packages')\n",
    "sys.path.append(xnat_dir)\n",
    "sys.path.append(config_path) \n",
    "\n",
    "import os\n",
    "import load_config\n",
    "import xnat_download\n",
    "\n",
    "session, proj_path = load_config.load(project_name, USER_ID, PassWord, config_path)\n",
    "\n",
    "# # return the file paths and download the data\n",
    "files_paths, query_result, scans_obj, download_paths = xnat_download.query_dicom(project_name, session, proj_path, dicom_query, download_root)\n",
    "\n",
    "print('根據query回傳之路徑')\n",
    "for i in files_paths:\n",
    "    print(i+'\\n')\n",
    "  \n",
    "#看query_result. 根據你query的選擇, code抓到的關鍵字是哪些, 有沒有符合, 這裡的比對是field需要都存在, 但字本身有tolerance\n",
    "# 例如 upper chest 會 符合 chest 的 tag, 反之亦然. 最後的篩選還是需要根據 query result\n",
    "\n",
    "# 印出搜尋到的字\n",
    "print('dicom裡搜尋到的字串')\n",
    "for i in query_result:\n",
    "    print(i)\n",
    "  \n",
    "# define your selector\n",
    "# 第二次篩選\n",
    "selector = ['chest', 'ct', 'tpj1']\n",
    "\n",
    "paths_to_download = xnat_download.select_files(download_paths, query_result, selector)\n",
    "\n",
    "# 下載\n",
    "xnat_download.download_files(scans_obj, paths_to_download)\n",
    "\n",
    "session.disconnect()"
   ]
  },
  {
   "cell_type": "code",
   "execution_count": 3,
   "metadata": {},
   "outputs": [],
   "source": [
    "sys.path.append('/home/anpo/anaconda3/lib/python3.8')\n",
    "sys.path.append('/home/anpo/anaconda3/lib/python3.8/site-packages')"
   ]
  },
  {
   "cell_type": "code",
   "execution_count": 3,
   "metadata": {
    "scrolled": true
   },
   "outputs": [
    {
     "name": "stdout",
     "output_type": "stream",
     "text": [
      "anpo\n",
      "espesp043\n"
     ]
    }
   ],
   "source": [
    "session, proj_path = load_config.load(project_name, USER_ID, PassWord, config_path)"
   ]
  },
  {
   "cell_type": "code",
   "execution_count": 4,
   "metadata": {},
   "outputs": [],
   "source": [
    "files_paths, query_result, scans_obj, download_paths = xnat_download.query_dicom(project_name, session, proj_path, dicom_query, download_root)"
   ]
  },
  {
   "cell_type": "code",
   "execution_count": null,
   "metadata": {},
   "outputs": [],
   "source": []
  },
  {
   "cell_type": "code",
   "execution_count": null,
   "metadata": {},
   "outputs": [],
   "source": []
  }
 ],
 "metadata": {
  "kernelspec": {
   "display_name": "Python 3",
   "language": "python",
   "name": "python3"
  },
  "language_info": {
   "codemirror_mode": {
    "name": "ipython",
    "version": 3
   },
   "file_extension": ".py",
   "mimetype": "text/x-python",
   "name": "python",
   "nbconvert_exporter": "python",
   "pygments_lexer": "ipython3",
   "version": "3.8.5"
  }
 },
 "nbformat": 4,
 "nbformat_minor": 2
}
