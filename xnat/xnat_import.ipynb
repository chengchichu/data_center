{
 "cells": [
  {
   "cell_type": "code",
   "execution_count": 8,
   "metadata": {
    "scrolled": true
   },
   "outputs": [
    {
     "name": "stdout",
     "output_type": "stream",
     "text": [
      "['/home/anpo/Desktop/pyscript/data_center/xnat', '/home/anpo/anaconda3/envs/tf-gpu/lib/python38.zip', '/home/anpo/anaconda3/envs/tf-gpu/lib/python3.8', '/home/anpo/anaconda3/envs/tf-gpu/lib/python3.8/lib-dynload', '', '/home/anpo/anaconda3/envs/tf-gpu/lib/python3.8/site-packages', '/home/anpo/anaconda3/envs/tf-gpu/lib/python3.8/site-packages/IPython/extensions', '/home/anpo/.ipython', '/home/anpo/anaconda3/lib/python3.8', '/home/anpo/anaconda3/lib/python3.8/site-packages', '/home/anpo/anaconda3/lib/python3.8/site-packages/xnat', '/home/anpo/Desktop/pyscript/data_center/xnat', '/home/anpo/anaconda3/lib/python3.8/site-packages/azureml/_project/vendor', '/home/anpo/anaconda3/lib/python3.8', '/home/anpo/anaconda3/lib/python3.8/site-packages', '/home/anpo/anaconda3/lib/python3.8/site-packages/xnat', '/home/anpo/Desktop/pyscript/data_center/xnat', '/home/anpo/anaconda3/lib/python3.8', '/home/anpo/anaconda3/lib/python3.8/site-packages', '/home/anpo/anaconda3/lib/python3.8/site-packages/xnat', '/home/anpo/Desktop/pyscript/data_center/xnat', '/home/anpo/anaconda3/lib/python3.8', '/home/anpo/anaconda3/lib/python3.8/site-packages', '/home/anpo/anaconda3/lib/python3.8/site-packages/xnat']\n"
     ]
    }
   ],
   "source": [
    "import sys\n",
    "xnat_dir = '/home/anpo/anaconda3/lib/python3.8/site-packages/xnat'\n",
    "sys.path.append('/home/anpo/anaconda3/lib/python3.8')\n",
    "sys.path.append('/home/anpo/anaconda3/lib/python3.8/site-packages')\n",
    "sys.path.append(xnat_dir)\n",
    "print(sys.path)\n",
    "# make sure you add the dir for xnat_donwload module\n",
    "sys.path.append('/home/anpo/Desktop/pyscript/data_center/xnat') \n",
    "import xnat_uploader \n",
    "import os\n",
    "import glob\n",
    "import load_config\n",
    "\n",
    "config_path = '/home/anpo/Desktop/pyscript/data_center/xnat'"
   ]
  },
  {
   "cell_type": "code",
   "execution_count": 10,
   "metadata": {
    "scrolled": true
   },
   "outputs": [
    {
     "name": "stdout",
     "output_type": "stream",
     "text": [
      "anpo\n",
      "espesp043\n",
      "實驗序號:17AD38227X01\n",
      "subject ID:2A29CC715A4476575019417753B87D23C15F208D\n",
      "實驗序號:108D34170X01\n",
      "subject ID:1C0D25C3200923F80AB1DFA847E2246346D6FB82\n",
      "實驗序號:123E33005X01\n",
      "subject ID:2E94A23E85A80F9E1E07FE281FA7CF811EAC71C3\n",
      "實驗序號:133S33605X01\n",
      "subject ID:2BA32B4E13D529808CFA013451D66C97AB6D2EDA\n",
      "實驗序號:176G31059X01\n",
      "subject ID:2E0DC78B0480AB6D5C8FDB061020B4F071965C26\n",
      "實驗序號:184P32344X01\n",
      "subject ID:1A122518BEB99562593E43AA32B7A1266A3A67E1\n",
      "實驗序號:185V33555X01\n",
      "subject ID:3CBB9517C48879DC9D9176EB1332BAE24C0A13D7\n",
      "實驗序號:16CE36192X01\n",
      "subject ID:1A5326AAE68A9323B96B9C9FF576EC10A2860541\n",
      "done\n"
     ]
    }
   ],
   "source": [
    "\n",
    "#data_root = '/home/anpo/Desktop/DataForDBtest/pneumothorax_20201117_1' # your data deposit location\n",
    "data_root = '/home/anpo/XNAT_img'\n",
    "\n",
    "# create the project name at xnat first\n",
    "project_name = 'tpj1' \n",
    "\n",
    "session, proj_path = load_config.load(project_name, 'anpo', 'espesp043', config_path)\n",
    "\n",
    "# not uploaded subject list\n",
    "unuploded_subjects = [] \n",
    "other_list = []\n",
    "\n",
    "# already uploaded subject list\n",
    "online_list = []\n",
    "for subject_name in session.projects[project_name].subjects.values():\n",
    "    online_list.append(subject_name.label)\n",
    "\n",
    "for subdir_name in glob.glob(os.path.join(data_root, '*', '')):\n",
    "    patient_ID = subdir_name.split('/')[-2]\n",
    "    image_No = xnat_uploader.get_DICOM_info(data_root, patient_ID)\n",
    "    print('實驗序號:'+image_No)\n",
    "    # if unable to extract subject exp id info\n",
    "    if not image_No:\n",
    "        unuploded_subjects.append(patient_ID)\n",
    "        continue\n",
    "    \n",
    "    # if match already uploaded subject, pass\n",
    "    if patient_ID.replace('.','_') in online_list: \n",
    "       # print('already_there')\n",
    "        continue\n",
    "        \n",
    "    try:        \n",
    "        experiment = xnat_uploader.img_uploader(data_root, session, project_name, patient_ID, image_No)\n",
    "        print('subject ID:'+patient_ID)\n",
    "    except Exception:\n",
    "        other_list.append(patient_ID)\n",
    "        continue\n",
    "        \n",
    "session.disconnect()\n",
    "print('done')\n"
   ]
  },
  {
   "cell_type": "code",
   "execution_count": 5,
   "metadata": {},
   "outputs": [
    {
     "data": {
      "text/plain": [
       "[]"
      ]
     },
     "execution_count": 5,
     "metadata": {},
     "output_type": "execute_result"
    }
   ],
   "source": [
    "unuploded_subjects"
   ]
  },
  {
   "cell_type": "code",
   "execution_count": 6,
   "metadata": {},
   "outputs": [
    {
     "data": {
      "text/plain": [
       "[]"
      ]
     },
     "execution_count": 6,
     "metadata": {},
     "output_type": "execute_result"
    }
   ],
   "source": [
    "other_list"
   ]
  },
  {
   "cell_type": "code",
   "execution_count": null,
   "metadata": {},
   "outputs": [],
   "source": []
  }
 ],
 "metadata": {
  "kernelspec": {
   "display_name": "Python 3",
   "language": "python",
   "name": "python3"
  },
  "language_info": {
   "codemirror_mode": {
    "name": "ipython",
    "version": 3
   },
   "file_extension": ".py",
   "mimetype": "text/x-python",
   "name": "python",
   "nbconvert_exporter": "python",
   "pygments_lexer": "ipython3",
   "version": "3.8.5"
  }
 },
 "nbformat": 4,
 "nbformat_minor": 4
}
